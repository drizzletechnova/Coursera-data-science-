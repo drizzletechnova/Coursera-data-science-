{
  "cells": [
    {
      "cell_type": "markdown",
      "metadata": {
        "id": "view-in-github",
        "colab_type": "text"
      },
      "source": [
        "<a href=\"https://colab.research.google.com/github/drizzletechnova/Coursera-data-science-/blob/main/regularization_implementation.ipynb\" target=\"_parent\"><img src=\"https://colab.research.google.com/assets/colab-badge.svg\" alt=\"Open In Colab\"/></a>"
      ]
    },
    {
      "cell_type": "code",
      "execution_count": null,
      "metadata": {
        "id": "5iSzYB2yAVow"
      },
      "outputs": [],
      "source": [
        "import numpy as np\n",
        "import matplotlib.pyplot as plt\n",
        "from sklearn.model_selection import train_test_split\n",
        "from sklearn import datasets\n",
        "from sklearn.metrics import mean_squared_error,r2_score\n",
        "\n",
        "import seaborn as sns"
      ]
    },
    {
      "cell_type": "code",
      "execution_count": null,
      "metadata": {
        "id": "xPWv1kb4Afl4"
      },
      "outputs": [],
      "source": [
        "X,y = datasets.make_regression(n_samples = 10000, n_features = 40, noise = 10, random_state = 443)\n",
        "X_train,X_test,y_train,y_test = train_test_split(X,y,random_state = 443, test_size = 0.2)"
      ]
    },
    {
      "cell_type": "code",
      "execution_count": null,
      "metadata": {
        "colab": {
          "base_uri": "https://localhost:8080/"
        },
        "id": "EM9S-UZ-O9VN",
        "outputId": "54ad6d5a-1be0-4a72-c204-e6b372c91587"
      },
      "outputs": [
        {
          "output_type": "execute_result",
          "data": {
            "text/plain": [
              "(8000, 40)"
            ]
          },
          "metadata": {},
          "execution_count": 15
        }
      ],
      "source": [
        "X_train.shape"
      ]
    },
    {
      "cell_type": "markdown",
      "metadata": {
        "id": "tIxKdvDvY8bW"
      },
      "source": [
        "# Linear regression"
      ]
    },
    {
      "cell_type": "code",
      "execution_count": null,
      "metadata": {
        "id": "MliMe8LnY7iu"
      },
      "outputs": [],
      "source": [
        "class LinearRegression():\n",
        "    def __init__(self,lr = 0.01, epochs = 1000):\n",
        "        self.lr = lr\n",
        "        self.epochs = epochs\n",
        "        self.weights = None\n",
        "        self.bias = None\n",
        "\n",
        "    def fit(self,X,y):\n",
        "        n,n_features = X.shape\n",
        "        self.weights = np.zeros(n_features)\n",
        "        self.bias = 0\n",
        "        for _ in range(self.epochs):\n",
        "            y_pred = np.dot(X,self.weights) + self.bias\n",
        "            dw = (1/n) * np.dot(X.T,( y_pred - y))\n",
        "            db =( 1/n) * np.sum( y_pred - y)\n",
        "            self.weights -= dw * self.lr\n",
        "            self.bias -= db * self.lr\n",
        "\n",
        "    def predict(self,X):\n",
        "        y_pred = np.dot(X,self.weights) + self.bias\n",
        "        return y_pred"
      ]
    },
    {
      "cell_type": "code",
      "execution_count": null,
      "metadata": {
        "id": "mL_Oi4-Qgcjo"
      },
      "outputs": [],
      "source": [
        "lr = LinearRegression(lr = 0.001)\n",
        "lr.fit(X_train,y_train)\n",
        "y_pred = lr.predict(X_test)"
      ]
    },
    {
      "cell_type": "code",
      "source": [
        "from sklearn.metrics import mean_squared_error\n",
        "mean_squared_error(y_test,y_pred)"
      ],
      "metadata": {
        "colab": {
          "base_uri": "https://localhost:8080/"
        },
        "id": "V1npJN8ssE9m",
        "outputId": "cdea1796-222a-4581-9b2a-09539c253616"
      },
      "execution_count": null,
      "outputs": [
        {
          "output_type": "execute_result",
          "data": {
            "text/plain": [
              "5224.475550665254"
            ]
          },
          "metadata": {},
          "execution_count": 18
        }
      ]
    },
    {
      "cell_type": "code",
      "source": [
        "r2_score(y_test, y_pred)"
      ],
      "metadata": {
        "id": "U2PcDoyJBlcK",
        "colab": {
          "base_uri": "https://localhost:8080/"
        },
        "outputId": "3c9e7284-5071-4db2-d7a0-b5e4a7976412"
      },
      "execution_count": null,
      "outputs": [
        {
          "output_type": "execute_result",
          "data": {
            "text/plain": [
              "0.8565556591600293"
            ]
          },
          "metadata": {},
          "execution_count": 19
        }
      ]
    },
    {
      "cell_type": "code",
      "execution_count": null,
      "metadata": {
        "id": "gJLbR9ALgiXl"
      },
      "outputs": [],
      "source": [
        "def mse(y,y_pred):\n",
        "    return np.mean((y - y_pred) ** 2)"
      ]
    },
    {
      "cell_type": "code",
      "execution_count": null,
      "metadata": {
        "colab": {
          "base_uri": "https://localhost:8080/"
        },
        "id": "G268g0k7grtt",
        "outputId": "e186299f-575e-4072-d92d-b96bab93e194"
      },
      "outputs": [
        {
          "output_type": "execute_result",
          "data": {
            "text/plain": [
              "5224.475550665254"
            ]
          },
          "metadata": {},
          "execution_count": 21
        }
      ],
      "source": [
        "mse(y_test,y_pred)"
      ]
    },
    {
      "cell_type": "code",
      "source": [
        "sns.regplot(x= y_test,y = y_pred)"
      ],
      "metadata": {
        "colab": {
          "base_uri": "https://localhost:8080/",
          "height": 281
        },
        "id": "lnWulg229nEG",
        "outputId": "b4a3a2a8-fd23-4c66-af14-7e4bb66651cc"
      },
      "execution_count": null,
      "outputs": [
        {
          "output_type": "execute_result",
          "data": {
            "text/plain": [
              "<Axes: >"
            ]
          },
          "metadata": {},
          "execution_count": 22
        },
        {
          "output_type": "display_data",
          "data": {
            "text/plain": [
              "<Figure size 640x480 with 1 Axes>"
            ],
            "image/png": "[encoded data removed]"
          },
          "metadata": {}
        }
      ]
    },
    {
      "cell_type": "code",
      "source": [
        "from sklearn.datasets import fetch_california_housing\n",
        "from sklearn.model_selection import train_test_split\n",
        "from sklearn.linear_model import LinearRegression\n",
        "from sklearn.metrics import mean_squared_error,r2_score\n",
        "\n",
        "# Load the dataset\n",
        "california = fetch_california_housing()\n",
        "X2, y2 = california.data, california.target\n",
        "\n",
        "# Split the dataset into training and testing sets\n",
        "X2_train, X2_test, y2_train, y2_test = train_test_split(X2, y2, test_size=0.2, random_state=42)\n",
        "# Initialize and train the model\n",
        "model = LinearRegression()\n",
        "model.fit(X2_train, y2_train)\n",
        "\n",
        "# Make predictions\n",
        "y2_pred = model.predict(X2_test)\n",
        "\n",
        "# Evaluate the model\n",
        "mse = mean_squared_error(y2_test, y2_pred)\n",
        "print(f'Mean Squared Error: {mse}')"
      ],
      "metadata": {
        "colab": {
          "base_uri": "https://localhost:8080/"
        },
        "id": "fe5fNVRd-UW2",
        "outputId": "e9a95a9d-95ff-49fe-d598-fa6e437d0e1c"
      },
      "execution_count": null,
      "outputs": [
        {
          "output_type": "stream",
          "name": "stdout",
          "text": [
            "Mean Squared Error: 0.5558915986952422\n"
          ]
        }
      ]
    },
    {
      "cell_type": "code",
      "source": [
        "r2_score(y2_test, y2_pred)"
      ],
      "metadata": {
        "colab": {
          "base_uri": "https://localhost:8080/"
        },
        "id": "VjqZf6jSJpXS",
        "outputId": "487b35bd-5374-47ae-a193-0d4d83424aee"
      },
      "execution_count": null,
      "outputs": [
        {
          "output_type": "execute_result",
          "data": {
            "text/plain": [
              "0.5757877060324524"
            ]
          },
          "metadata": {},
          "execution_count": 24
        }
      ]
    },
    {
      "cell_type": "code",
      "source": [
        "sns.regplot(x= y2_test,y = y2_pred)"
      ],
      "metadata": {
        "colab": {
          "base_uri": "https://localhost:8080/",
          "height": 291
        },
        "id": "BE91FMU2JAKS",
        "outputId": "427d5ce6-f4e4-4d65-cc8f-c503478c075e"
      },
      "execution_count": null,
      "outputs": [
        {
          "output_type": "execute_result",
          "data": {
            "text/plain": [
              "<Axes: >"
            ]
          },
          "metadata": {},
          "execution_count": 25
        },
        {
          "output_type": "display_data",
          "data": {
            "text/plain": [
              "<Figure size 640x480 with 1 Axes>"
            ],
            "image/png": "[encoded data removed]"
          },
          "metadata": {}
        }
      ]
    },
    {
      "cell_type": "markdown",
      "source": [
        "# L2 Regularization"
      ],
      "metadata": {
        "id": "736XfDzkKIaO"
      }
    },
    {
      "cell_type": "code",
      "source": [
        "class Ridge():\n",
        "    def __init__(self,epochs = 1000,lr = 0.01,alpha = 0.01):\n",
        "        self.bias = None\n",
        "        self.weights = None\n",
        "        self.lr = lr\n",
        "        self.alpha = alpha\n",
        "        self.epochs = epochs\n",
        "    def fit(self,X,y):\n",
        "        m,n_features = X.shape\n",
        "        self.weights = np.zeros(n_features)\n",
        "        self.bias = 0\n",
        "        for _ in range(self.epochs):\n",
        "            y_pred = np.dot(X,self.weights) + self.bias\n",
        "            dw = 1/m * np.dot(X.T,(y - y_pred)) + self.alpha * self.weights\n",
        "            db = 1/m * np.sum(y - y_pred)\n",
        "            self.weights -= dw * self.lr\n",
        "            self.bias -= db * self.lr\n",
        "\n",
        "    def predict(self,X):\n",
        "        return np.dot(X,self.weights) + self.bias"
      ],
      "metadata": {
        "id": "80XdLdfjKH-z"
      },
      "execution_count": null,
      "outputs": []
    },
    {
      "cell_type": "code",
      "source": [
        "model2 = Ridge(lr = 0.001,alpha = 0.1)\n",
        "model2.fit(X_train,y_train)\n",
        "y3_pred = model2.predict(X_test)"
      ],
      "metadata": {
        "id": "vsrgR0TVDff8"
      },
      "execution_count": null,
      "outputs": []
    },
    {
      "cell_type": "code",
      "source": [
        "r2_score(y_test, y3_pred)"
      ],
      "metadata": {
        "colab": {
          "base_uri": "https://localhost:8080/"
        },
        "id": "lLo3rUwOE9nt",
        "outputId": "937b3f3f-f755-4039-a64a-0ba90b8595e9"
      },
      "execution_count": null,
      "outputs": [
        {
          "output_type": "execute_result",
          "data": {
            "text/plain": [
              "-5.6825539114099275"
            ]
          },
          "metadata": {},
          "execution_count": 28
        }
      ]
    },
    {
      "cell_type": "code",
      "source": [
        "from sklearn.metrics import mean_squared_error\n",
        "mean_squared_error(y_test,y3_pred)"
      ],
      "metadata": {
        "id": "C7b2n0gdFJiy",
        "outputId": "917f18e9-b2ae-4918-db47-cf8951475a0a",
        "colab": {
          "base_uri": "https://localhost:8080/"
        }
      },
      "execution_count": null,
      "outputs": [
        {
          "output_type": "execute_result",
          "data": {
            "text/plain": [
              "243389.45211587727"
            ]
          },
          "metadata": {},
          "execution_count": 29
        }
      ]
    },
    {
      "cell_type": "markdown",
      "source": [
        "# L1 Regularization"
      ],
      "metadata": {
        "id": "Wkisoebj7yHt"
      }
    },
    {
      "cell_type": "code",
      "source": [
        "class Lasso():\n",
        "    def __init__(self,epochs = 1000,lr = 0.01,alpha = 0.01):\n",
        "        self.bias = None\n",
        "        self.weights = None\n",
        "        self.lr = lr\n",
        "        self.alpha = alpha\n",
        "        self.epochs = epochs\n",
        "    def fit(self,X,y):\n",
        "        m,n_features = X.shape\n",
        "        self.weights = np.zeros(n_features)\n",
        "        self.bias = 0\n",
        "        for _ in range(self.epochs):\n",
        "            y_pred = np.dot(X,self.weights) + self.bias\n",
        "            dw = 1/m * np.dot(X.T,(y - y_pred)) + (self.alpha * np.sign(self.weights))\n",
        "            db = 1/m * np.sum(y - y_pred)\n",
        "            self.weights -= dw * self.lr\n",
        "            self.bias -= db * self.lr\n",
        "\n",
        "    def predict(self,X):\n",
        "        return np.dot(X,self.weights) + self.bias"
      ],
      "metadata": {
        "id": "N-n18tPU6xzu"
      },
      "execution_count": null,
      "outputs": []
    },
    {
      "cell_type": "code",
      "source": [
        "model3 =  Lasso(lr = 0.001)\n",
        "model3.fit(X_train,y_train)\n",
        "y4_pred = model3.predict(X_test)"
      ],
      "metadata": {
        "id": "_3JRp-7B7noL"
      },
      "execution_count": null,
      "outputs": []
    },
    {
      "cell_type": "code",
      "source": [
        "from sklearn.metrics import mean_squared_error\n",
        "mean_squared_error(y_test,y4_pred)"
      ],
      "metadata": {
        "colab": {
          "base_uri": "https://localhost:8080/"
        },
        "id": "3tGBo1fS8W9R",
        "outputId": "386bfe62-6071-46d5-dd5f-0dff88c5826c"
      },
      "execution_count": null,
      "outputs": [
        {
          "output_type": "execute_result",
          "data": {
            "text/plain": [
              "261384.5616926899"
            ]
          },
          "metadata": {},
          "execution_count": 32
        }
      ]
    },
    {
      "cell_type": "code",
      "source": [
        "r2_score(y_test, y4_pred)"
      ],
      "metadata": {
        "colab": {
          "base_uri": "https://localhost:8080/"
        },
        "id": "RUXBD3GN8pMz",
        "outputId": "c363cdca-de88-461e-9338-f18319579c02"
      },
      "execution_count": null,
      "outputs": [
        {
          "output_type": "execute_result",
          "data": {
            "text/plain": [
              "-6.176631566967191"
            ]
          },
          "metadata": {},
          "execution_count": 33
        }
      ]
    }
  ],
  "metadata": {
    "colab": {
      "provenance": [],
      "authorship_tag": "ABX9TyMcjKzku2QKKjvBtBYgXDaA",
      "include_colab_link": true
    },
    "kernelspec": {
      "display_name": "Python 3",
      "name": "python3"
    },
    "language_info": {
      "name": "python"
    }
  },
  "nbformat": 4,
  "nbformat_minor": 0
}