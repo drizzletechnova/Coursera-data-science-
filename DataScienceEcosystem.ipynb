{
 "cells": [
  {
   "cell_type": "markdown",
   "id": "4c94b7fc-5d1f-40cc-8582-d9cd23b21c14",
   "metadata": {
    "editable": true,
    "slideshow": {
     "slide_type": ""
    },
    "tags": []
   },
   "source": [
    "# Data Science Tools and Ecosystem"
   ]
  },
  {
   "attachments": {},
   "cell_type": "markdown",
   "id": "b2f9830b-5334-4613-ad7f-adb98871e4da",
   "metadata": {},
   "source": [
    "This notebook contains a summary of data science tools and ecosystem"
   ]
  },
  {
   "cell_type": "markdown",
   "id": "12382bd1-f419-4df2-ac9a-58e91ec1b504",
   "metadata": {},
   "source": [
    "Some popular programming languages that are used in data science\n",
    "1. Python\n",
    "2. R\n",
    "3. SQL\n",
    "4. Java\n",
    "5. Julia\n",
    "6. Scala"
   ]
  },
  {
   "cell_type": "markdown",
   "id": "7912365c-6e29-4e2a-8930-f4f78286d53c",
   "metadata": {},
   "source": [
    "**Objectives:**\n",
    "- List of popular programming languages used in data science\n",
    "-  List of popular libraries used in data science\n",
    "-  List of open source development tools used in data science\n",
    "-  Simple arithmetic operation in python"
   ]
  },
  {
   "cell_type": "markdown",
   "id": "47b5ffcf-c010-40b1-9302-07976cb0dd9c",
   "metadata": {},
   "source": [
    "Some of the commonly used libraries in data science are:\n",
    "1. Numpy\n",
    "2. Pandas\n",
    "3. Matplotlib\n",
    "4. Keras\n",
    "5. Pytorch\n",
    "  "
   ]
  },
  {
   "cell_type": "markdown",
   "id": "86f0f012-8b10-41b0-9b9a-f3852b0a95fa",
   "metadata": {},
   "source": [
    "|Data Science Tools|\n",
    "|------------------|\n",
    "|Jupyter Notebook|\n",
    "|RStudio|\n",
    "|Anaconda|"
   ]
  },
  {
   "cell_type": "markdown",
   "id": "b76d0d9a-f798-4835-8ee0-1aca93c3c933",
   "metadata": {},
   "source": [
    "### An example on evaluating arithmetic expression in python "
   ]
  },
  {
   "cell_type": "code",
   "execution_count": 9,
   "id": "0ae6d532-01ae-4842-afc7-b47aae8a3b82",
   "metadata": {},
   "outputs": [
    {
     "data": {
      "text/plain": [
       "17"
      ]
     },
     "execution_count": 9,
     "metadata": {},
     "output_type": "execute_result"
    }
   ],
   "source": [
    "# This is a simple arithmetic expression in which the numbers are added and then multiplied \n",
    "(3 * 4) + 5"
   ]
  },
  {
   "cell_type": "code",
   "execution_count": 11,
   "id": "f9f9cc96-d25a-4818-9f34-a849dd56f296",
   "metadata": {},
   "outputs": [
    {
     "data": {
      "text/plain": [
       "3.3333333333333335"
      ]
     },
     "execution_count": 11,
     "metadata": {},
     "output_type": "execute_result"
    }
   ],
   "source": [
    "minutes = 60\n",
    "hours = 200 / minutes\n",
    "hours"
   ]
  },
  {
   "cell_type": "markdown",
   "id": "aa7dcd9a-2972-4726-a91b-f5678703f05b",
   "metadata": {},
   "source": [
    "## Author\n",
    "Osokoya Praise Adehunoluwa"
   ]
  }
 ],
 "metadata": {
  "kernelspec": {
   "display_name": "Python 3 (ipykernel)",
   "language": "python",
   "name": "python3"
  },
  "language_info": {
   "codemirror_mode": {
    "name": "ipython",
    "version": 3
   },
   "file_extension": ".py",
   "mimetype": "text/x-python",
   "name": "python",
   "nbconvert_exporter": "python",
   "pygments_lexer": "ipython3",
   "version": "3.11.4"
  }
 },
 "nbformat": 4,
 "nbformat_minor": 5
}
